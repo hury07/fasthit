{
 "metadata": {
  "language_info": {
   "codemirror_mode": {
    "name": "ipython",
    "version": 3
   },
   "file_extension": ".py",
   "mimetype": "text/x-python",
   "name": "python",
   "nbconvert_exporter": "python",
   "pygments_lexer": "ipython3",
   "version": "3.7.10"
  },
  "orig_nbformat": 2,
  "kernelspec": {
   "name": "python3",
   "display_name": "Python 3.7.10 64-bit ('fast-hit': conda)"
  },
  "interpreter": {
   "hash": "bb5ddf57134d5d676c354eecfca697b6db893b0e45367ca78a3bd7aa699a3b6b"
  }
 },
 "nbformat": 4,
 "nbformat_minor": 2,
 "cells": [
  {
   "cell_type": "code",
   "execution_count": 1,
   "metadata": {},
   "outputs": [],
   "source": [
    "import pandas as pd\n",
    "import numpy as np\n",
    "import editdistance as edd"
   ]
  },
  {
   "cell_type": "code",
   "execution_count": 2,
   "metadata": {},
   "outputs": [
    {
     "output_type": "stream",
     "name": "stderr",
     "text": [
      "/home/hury/miniconda3/envs/fast-hit/lib/python3.7/site-packages/openpyxl/worksheet/_reader.py:312: UserWarning: Unknown extension is not supported and will be removed\n",
      "  warn(msg)\n",
      "Variants        FWAA\n",
      "Fitness     8.761966\n",
      "Name: 57022, dtype: object\n"
     ]
    }
   ],
   "source": [
    "measured_data = pd.read_excel(\"elife-16965-supp1-v4.xlsx\")\n",
    "imputed_data = pd.read_excel(\"elife-16965-supp2-v4.xlsx\")\n",
    "measured_data = measured_data[[\"Variants\", \"Fitness\"]]\n",
    "imputed_data.columns = [\"Variants\", \"Fitness\"]\n",
    "data = measured_data\n",
    "#data = pd.concat([measured_data, imputed_data]).reset_index(drop=True)\n",
    "idx = data[\"Fitness\"].argmax()\n",
    "top_seq = data.loc[idx, \"Variants\"]\n",
    "print(data.loc[idx])"
   ]
  },
  {
   "cell_type": "code",
   "execution_count": 3,
   "metadata": {},
   "outputs": [],
   "source": [
    "def calc_hd(ref_seq, variants):\n",
    "    return [edd.eval(ref_seq, variant) for variant in variants]"
   ]
  },
  {
   "cell_type": "code",
   "execution_count": 4,
   "metadata": {},
   "outputs": [],
   "source": [
    "hd = calc_hd(top_seq, data[\"Variants\"])\n",
    "data[\"HD\"] = hd"
   ]
  },
  {
   "cell_type": "code",
   "execution_count": 5,
   "metadata": {},
   "outputs": [],
   "source": [
    "data_hd = [data.loc[data[\"HD\"] == i] for i in range(1, 5)]"
   ]
  },
  {
   "cell_type": "code",
   "execution_count": 6,
   "metadata": {},
   "outputs": [
    {
     "output_type": "stream",
     "name": "stdout",
     "text": [
      "min: 0.0, max: 8.76196565571, 20-th: 0.000541666669587, 50-th: 0.00338374487421, 80-th: 0.0122202760744, 95-th: 0.305672600518, WT: 1.0, 99-th: 2.152372151259997\n"
     ]
    }
   ],
   "source": [
    "score = data[\"Fitness\"]\n",
    "print(f\"min: {score.min()}, max: {score.max()}, 20-th: {np.percentile(score, 20)}, 50-th: {np.percentile(score, 50)}, 80-th: {np.percentile(score, 80)}, 95-th: {np.percentile(score, 95)}, WT: {1.0}, 99-th: {np.percentile(score, 99)}\")"
   ]
  },
  {
   "cell_type": "code",
   "execution_count": 7,
   "metadata": {},
   "outputs": [],
   "source": [
    "data_fitness = []\n",
    "for data in data_hd:\n",
    "    data1 = data.loc[(data[\"Fitness\"] >= np.percentile(score, 20)) & (data[\"Fitness\"] < np.percentile(score, 50))]\n",
    "    data1 = data1.reset_index(drop=True)\n",
    "    data_fitness.append(data1)\n",
    "\n",
    "    data2 = data.loc[(data[\"Fitness\"] >= np.percentile(score, 50)) & (data[\"Fitness\"] < np.percentile(score, 80))]\n",
    "    data2 = data2.reset_index(drop=True)\n",
    "    data_fitness.append(data2)\n",
    "    data3 = data.loc[(data[\"Fitness\"] >= np.percentile(score, 80)) & (data[\"Fitness\"] < np.percentile(score, 95))]\n",
    "    data3 = data3.reset_index(drop=True)\n",
    "    data_fitness.append(data3)\n",
    "    data4 = data.loc[(data[\"Fitness\"] >= np.percentile(score, 95)) & (data[\"Fitness\"] < 1.0)]\n",
    "    data4 = data4.reset_index(drop=True)\n",
    "    data_fitness.append(data4)\n",
    "    data5 = data.loc[(data[\"Fitness\"] >= 1.0) & (data[\"Fitness\"] < np.percentile(score, 99))]\n",
    "    data5 = data5.reset_index(drop=True)\n",
    "    data_fitness.append(data5)"
   ]
  },
  {
   "cell_type": "code",
   "execution_count": 8,
   "metadata": {},
   "outputs": [
    {
     "output_type": "execute_result",
     "data": {
      "text/plain": [
       "   Variants   Fitness  HD\n",
       "0      FWRA  0.010963   1\n",
       "1      FWWA  0.045681   1\n",
       "2      FWSA  0.913611   1\n",
       "3      FEAA  1.346233   1\n",
       "4      KWAY  0.002538   2\n",
       "5      FTAY  0.006895   2\n",
       "6      FCWA  0.027873   2\n",
       "7      MWSA  0.529660   2\n",
       "8      FHSA  1.516252   2\n",
       "9      KLNA  0.002965   3\n",
       "10     SNVA  0.004158   3\n",
       "11     IYAN  0.028111   3\n",
       "12     WEGA  0.419304   3\n",
       "13     LLLA  1.416039   3\n",
       "14     EVWL  0.003158   4\n",
       "15     LFDI  0.004486   4\n",
       "16     VYFL  0.016139   4\n",
       "17     YFCI  0.437735   4\n",
       "18     VYVG  1.077227   4"
      ],
      "text/html": "<div>\n<style scoped>\n    .dataframe tbody tr th:only-of-type {\n        vertical-align: middle;\n    }\n\n    .dataframe tbody tr th {\n        vertical-align: top;\n    }\n\n    .dataframe thead th {\n        text-align: right;\n    }\n</style>\n<table border=\"1\" class=\"dataframe\">\n  <thead>\n    <tr style=\"text-align: right;\">\n      <th></th>\n      <th>Variants</th>\n      <th>Fitness</th>\n      <th>HD</th>\n    </tr>\n  </thead>\n  <tbody>\n    <tr>\n      <th>0</th>\n      <td>FWRA</td>\n      <td>0.010963</td>\n      <td>1</td>\n    </tr>\n    <tr>\n      <th>1</th>\n      <td>FWWA</td>\n      <td>0.045681</td>\n      <td>1</td>\n    </tr>\n    <tr>\n      <th>2</th>\n      <td>FWSA</td>\n      <td>0.913611</td>\n      <td>1</td>\n    </tr>\n    <tr>\n      <th>3</th>\n      <td>FEAA</td>\n      <td>1.346233</td>\n      <td>1</td>\n    </tr>\n    <tr>\n      <th>4</th>\n      <td>KWAY</td>\n      <td>0.002538</td>\n      <td>2</td>\n    </tr>\n    <tr>\n      <th>5</th>\n      <td>FTAY</td>\n      <td>0.006895</td>\n      <td>2</td>\n    </tr>\n    <tr>\n      <th>6</th>\n      <td>FCWA</td>\n      <td>0.027873</td>\n      <td>2</td>\n    </tr>\n    <tr>\n      <th>7</th>\n      <td>MWSA</td>\n      <td>0.529660</td>\n      <td>2</td>\n    </tr>\n    <tr>\n      <th>8</th>\n      <td>FHSA</td>\n      <td>1.516252</td>\n      <td>2</td>\n    </tr>\n    <tr>\n      <th>9</th>\n      <td>KLNA</td>\n      <td>0.002965</td>\n      <td>3</td>\n    </tr>\n    <tr>\n      <th>10</th>\n      <td>SNVA</td>\n      <td>0.004158</td>\n      <td>3</td>\n    </tr>\n    <tr>\n      <th>11</th>\n      <td>IYAN</td>\n      <td>0.028111</td>\n      <td>3</td>\n    </tr>\n    <tr>\n      <th>12</th>\n      <td>WEGA</td>\n      <td>0.419304</td>\n      <td>3</td>\n    </tr>\n    <tr>\n      <th>13</th>\n      <td>LLLA</td>\n      <td>1.416039</td>\n      <td>3</td>\n    </tr>\n    <tr>\n      <th>14</th>\n      <td>EVWL</td>\n      <td>0.003158</td>\n      <td>4</td>\n    </tr>\n    <tr>\n      <th>15</th>\n      <td>LFDI</td>\n      <td>0.004486</td>\n      <td>4</td>\n    </tr>\n    <tr>\n      <th>16</th>\n      <td>VYFL</td>\n      <td>0.016139</td>\n      <td>4</td>\n    </tr>\n    <tr>\n      <th>17</th>\n      <td>YFCI</td>\n      <td>0.437735</td>\n      <td>4</td>\n    </tr>\n    <tr>\n      <th>18</th>\n      <td>VYVG</td>\n      <td>1.077227</td>\n      <td>4</td>\n    </tr>\n  </tbody>\n</table>\n</div>"
     },
     "metadata": {},
     "execution_count": 8
    }
   ],
   "source": [
    "np.random.seed(1)\n",
    "starts = pd.DataFrame([data.loc[np.random.randint(0, len(data))] for data in data_fitness if not data.empty])\n",
    "starts = starts.reset_index(drop=True)\n",
    "starts"
   ]
  },
  {
   "cell_type": "code",
   "execution_count": null,
   "metadata": {},
   "outputs": [],
   "source": []
  }
 ]
}