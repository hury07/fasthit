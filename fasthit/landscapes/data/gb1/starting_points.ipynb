{
 "cells": [
  {
   "cell_type": "code",
   "execution_count": 1,
   "metadata": {},
   "outputs": [],
   "source": [
    "import pandas as pd\n",
    "import numpy as np\n",
    "import editdistance as edd"
   ]
  },
  {
   "cell_type": "code",
   "execution_count": 2,
   "metadata": {},
   "outputs": [
    {
     "name": "stderr",
     "output_type": "stream",
     "text": [
      "/home/hury/miniconda3/envs/fast-hit/lib/python3.7/site-packages/openpyxl/worksheet/_reader.py:312: UserWarning: Unknown extension is not supported and will be removed\n",
      "  warn(msg)\n"
     ]
    },
    {
     "name": "stdout",
     "output_type": "stream",
     "text": [
      "Variants        AHCA\n",
      "Fitness     9.913088\n",
      "Name: 150815, dtype: object\n"
     ]
    }
   ],
   "source": [
    "measured_data = pd.read_excel(\"elife-16965-supp1-v4.xlsx\")\n",
    "imputed_data = pd.read_excel(\"elife-16965-supp2-v4.xlsx\")\n",
    "measured_data = measured_data[[\"Variants\", \"Fitness\"]]\n",
    "imputed_data.columns = [\"Variants\", \"Fitness\"]\n",
    "#data = measured_data\n",
    "data = pd.concat([measured_data, imputed_data]).reset_index(drop=True)\n",
    "idx = data[\"Fitness\"].argmax()\n",
    "top_seq = data.loc[idx, \"Variants\"]\n",
    "print(data.loc[idx])"
   ]
  },
  {
   "cell_type": "code",
   "execution_count": 3,
   "metadata": {},
   "outputs": [],
   "source": [
    "def calc_hd(ref_seq, variants):\n",
    "    return [edd.eval(ref_seq, variant) for variant in variants]"
   ]
  },
  {
   "cell_type": "code",
   "execution_count": 4,
   "metadata": {},
   "outputs": [],
   "source": [
    "hd = calc_hd(top_seq, data[\"Variants\"])\n",
    "data[\"HD\"] = hd"
   ]
  },
  {
   "cell_type": "code",
   "execution_count": 5,
   "metadata": {},
   "outputs": [],
   "source": [
    "data_hd = [data.loc[data[\"HD\"] == i] for i in range(1, 5)]"
   ]
  },
  {
   "cell_type": "code",
   "execution_count": 6,
   "metadata": {},
   "outputs": [
    {
     "name": "stdout",
     "output_type": "stream",
     "text": [
      "min: 0.0, max: 9.9130883273888, 20-th: 0.0009025300634848007, 50-th: 0.00371788505218772, 80-th: 0.01642886770231957, 95-th: 0.28878832989134867, WT: 1.0, 99-th: 2.078482598617616\n"
     ]
    }
   ],
   "source": [
    "score = data[\"Fitness\"]\n",
    "print(f\"min: {score.min()}, max: {score.max()}, 20-th: {np.percentile(score, 20)}, 50-th: {np.percentile(score, 50)}, 80-th: {np.percentile(score, 80)}, 95-th: {np.percentile(score, 95)}, WT: {1.0}, 99-th: {np.percentile(score, 99)}\")"
   ]
  },
  {
   "cell_type": "code",
   "execution_count": 7,
   "metadata": {},
   "outputs": [],
   "source": [
    "data_fitness = []\n",
    "max_fitness = []\n",
    "for data in data_hd:\n",
    "    data1 = data.loc[(data[\"Fitness\"] >= np.percentile(score, 20)) & (data[\"Fitness\"] < np.percentile(score, 50))]\n",
    "    data1 = data1.reset_index(drop=True)\n",
    "    data_fitness.append(data1)\n",
    "\n",
    "    data2 = data.loc[(data[\"Fitness\"] >= np.percentile(score, 50)) & (data[\"Fitness\"] < np.percentile(score, 80))]\n",
    "    data2 = data2.reset_index(drop=True)\n",
    "    data_fitness.append(data2)\n",
    "    data3 = data.loc[(data[\"Fitness\"] >= np.percentile(score, 80)) & (data[\"Fitness\"] < np.percentile(score, 95))]\n",
    "    data3 = data3.reset_index(drop=True)\n",
    "    data_fitness.append(data3)\n",
    "    data4 = data.loc[(data[\"Fitness\"] >= np.percentile(score, 95)) & (data[\"Fitness\"] < 1.0)]\n",
    "    data4 = data4.reset_index(drop=True)\n",
    "    data_fitness.append(data4)\n",
    "    data5 = data.loc[(data[\"Fitness\"] >= 1.0) & (data[\"Fitness\"] < np.percentile(score, 99))]\n",
    "    data5 = data5.reset_index(drop=True)\n",
    "    data_fitness.append(data5)\n",
    "    idx_max = data[\"Fitness\"].idxmax()\n",
    "    max_fitness.append(data.loc[idx_max])"
   ]
  },
  {
   "cell_type": "code",
   "execution_count": 8,
   "metadata": {},
   "outputs": [
    {
     "data": {
      "text/html": [
       "<div>\n",
       "<style scoped>\n",
       "    .dataframe tbody tr th:only-of-type {\n",
       "        vertical-align: middle;\n",
       "    }\n",
       "\n",
       "    .dataframe tbody tr th {\n",
       "        vertical-align: top;\n",
       "    }\n",
       "\n",
       "    .dataframe thead th {\n",
       "        text-align: right;\n",
       "    }\n",
       "</style>\n",
       "<table border=\"1\" class=\"dataframe\">\n",
       "  <thead>\n",
       "    <tr style=\"text-align: right;\">\n",
       "      <th></th>\n",
       "      <th>Variants</th>\n",
       "      <th>Fitness</th>\n",
       "      <th>HD</th>\n",
       "    </tr>\n",
       "  </thead>\n",
       "  <tbody>\n",
       "    <tr>\n",
       "      <th>0</th>\n",
       "      <td>AHNA</td>\n",
       "      <td>0.034517</td>\n",
       "      <td>1</td>\n",
       "    </tr>\n",
       "    <tr>\n",
       "      <th>1</th>\n",
       "      <td>CHCA</td>\n",
       "      <td>0.701216</td>\n",
       "      <td>1</td>\n",
       "    </tr>\n",
       "    <tr>\n",
       "      <th>2</th>\n",
       "      <td>NHCA</td>\n",
       "      <td>1.672611</td>\n",
       "      <td>1</td>\n",
       "    </tr>\n",
       "    <tr>\n",
       "      <th>3</th>\n",
       "      <td>ATRA</td>\n",
       "      <td>0.003606</td>\n",
       "      <td>2</td>\n",
       "    </tr>\n",
       "    <tr>\n",
       "      <th>4</th>\n",
       "      <td>KAHC</td>\n",
       "      <td>0.006337</td>\n",
       "      <td>2</td>\n",
       "    </tr>\n",
       "    <tr>\n",
       "      <th>5</th>\n",
       "      <td>AHHK</td>\n",
       "      <td>0.143449</td>\n",
       "      <td>2</td>\n",
       "    </tr>\n",
       "    <tr>\n",
       "      <th>6</th>\n",
       "      <td>CRCA</td>\n",
       "      <td>0.850480</td>\n",
       "      <td>2</td>\n",
       "    </tr>\n",
       "    <tr>\n",
       "      <th>7</th>\n",
       "      <td>AHGC</td>\n",
       "      <td>1.575554</td>\n",
       "      <td>2</td>\n",
       "    </tr>\n",
       "    <tr>\n",
       "      <th>8</th>\n",
       "      <td>WHRH</td>\n",
       "      <td>0.002939</td>\n",
       "      <td>3</td>\n",
       "    </tr>\n",
       "    <tr>\n",
       "      <th>9</th>\n",
       "      <td>GSCQ</td>\n",
       "      <td>0.005740</td>\n",
       "      <td>3</td>\n",
       "    </tr>\n",
       "    <tr>\n",
       "      <th>10</th>\n",
       "      <td>AGFR</td>\n",
       "      <td>0.019577</td>\n",
       "      <td>3</td>\n",
       "    </tr>\n",
       "    <tr>\n",
       "      <th>11</th>\n",
       "      <td>YYCS</td>\n",
       "      <td>0.517713</td>\n",
       "      <td>3</td>\n",
       "    </tr>\n",
       "    <tr>\n",
       "      <th>12</th>\n",
       "      <td>AMLG</td>\n",
       "      <td>1.153434</td>\n",
       "      <td>3</td>\n",
       "    </tr>\n",
       "    <tr>\n",
       "      <th>13</th>\n",
       "      <td>SIDW</td>\n",
       "      <td>0.001877</td>\n",
       "      <td>4</td>\n",
       "    </tr>\n",
       "    <tr>\n",
       "      <th>14</th>\n",
       "      <td>CMPW</td>\n",
       "      <td>0.004837</td>\n",
       "      <td>4</td>\n",
       "    </tr>\n",
       "    <tr>\n",
       "      <th>15</th>\n",
       "      <td>VRFM</td>\n",
       "      <td>0.019884</td>\n",
       "      <td>4</td>\n",
       "    </tr>\n",
       "    <tr>\n",
       "      <th>16</th>\n",
       "      <td>KVGF</td>\n",
       "      <td>0.756623</td>\n",
       "      <td>4</td>\n",
       "    </tr>\n",
       "    <tr>\n",
       "      <th>17</th>\n",
       "      <td>MRGM</td>\n",
       "      <td>1.329250</td>\n",
       "      <td>4</td>\n",
       "    </tr>\n",
       "    <tr>\n",
       "      <th>18</th>\n",
       "      <td>ANCA</td>\n",
       "      <td>7.556869</td>\n",
       "      <td>1</td>\n",
       "    </tr>\n",
       "    <tr>\n",
       "      <th>19</th>\n",
       "      <td>FWCA</td>\n",
       "      <td>7.554663</td>\n",
       "      <td>2</td>\n",
       "    </tr>\n",
       "    <tr>\n",
       "      <th>20</th>\n",
       "      <td>FWAA</td>\n",
       "      <td>8.761966</td>\n",
       "      <td>3</td>\n",
       "    </tr>\n",
       "    <tr>\n",
       "      <th>21</th>\n",
       "      <td>FWLG</td>\n",
       "      <td>7.312656</td>\n",
       "      <td>4</td>\n",
       "    </tr>\n",
       "  </tbody>\n",
       "</table>\n",
       "</div>"
      ],
      "text/plain": [
       "   Variants   Fitness  HD\n",
       "0      AHNA  0.034517   1\n",
       "1      CHCA  0.701216   1\n",
       "2      NHCA  1.672611   1\n",
       "3      ATRA  0.003606   2\n",
       "4      KAHC  0.006337   2\n",
       "5      AHHK  0.143449   2\n",
       "6      CRCA  0.850480   2\n",
       "7      AHGC  1.575554   2\n",
       "8      WHRH  0.002939   3\n",
       "9      GSCQ  0.005740   3\n",
       "10     AGFR  0.019577   3\n",
       "11     YYCS  0.517713   3\n",
       "12     AMLG  1.153434   3\n",
       "13     SIDW  0.001877   4\n",
       "14     CMPW  0.004837   4\n",
       "15     VRFM  0.019884   4\n",
       "16     KVGF  0.756623   4\n",
       "17     MRGM  1.329250   4\n",
       "18     ANCA  7.556869   1\n",
       "19     FWCA  7.554663   2\n",
       "20     FWAA  8.761966   3\n",
       "21     FWLG  7.312656   4"
      ]
     },
     "execution_count": 8,
     "metadata": {},
     "output_type": "execute_result"
    }
   ],
   "source": [
    "np.random.seed(1)\n",
    "starts = pd.DataFrame([data.loc[np.random.randint(0, len(data))] for data in data_fitness if not data.empty])\n",
    "max_fitness = pd.DataFrame(max_fitness)\n",
    "starts = starts.append(max_fitness)\n",
    "starts = starts.reset_index(drop=True)\n",
    "starts"
   ]
  },
  {
   "cell_type": "code",
   "execution_count": null,
   "metadata": {},
   "outputs": [],
   "source": []
  }
 ],
 "metadata": {
  "interpreter": {
   "hash": "bb5ddf57134d5d676c354eecfca697b6db893b0e45367ca78a3bd7aa699a3b6b"
  },
  "kernelspec": {
   "display_name": "Python 3.7.10 64-bit ('fast-hit': conda)",
   "name": "python3"
  },
  "language_info": {
   "codemirror_mode": {
    "name": "ipython",
    "version": 3
   },
   "file_extension": ".py",
   "mimetype": "text/x-python",
   "name": "python",
   "nbconvert_exporter": "python",
   "pygments_lexer": "ipython3",
   "version": "3.7.10"
  },
  "orig_nbformat": 2
 },
 "nbformat": 4,
 "nbformat_minor": 2
}